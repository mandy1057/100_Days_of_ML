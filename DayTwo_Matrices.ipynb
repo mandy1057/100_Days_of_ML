{
 "cells": [
  {
   "cell_type": "markdown",
   "metadata": {},
   "source": [
    "## Vectors\n"
   ]
  },
  {
   "cell_type": "code",
   "execution_count": 1,
   "metadata": {},
   "outputs": [
    {
     "name": "stdout",
     "output_type": "stream",
     "text": [
      "[1 5 6 8]\n"
     ]
    }
   ],
   "source": [
    "# dedining the vector\n",
    "\n",
    "import numpy as np\n",
    "vec = np.array([1,5,6,8])\n",
    "print(vec)"
   ]
  },
  {
   "cell_type": "code",
   "execution_count": 2,
   "metadata": {},
   "outputs": [],
   "source": [
    "# arthemetic operations between two vectors to form third vector\n",
    "\n",
    "vec1 = np.array([1,3,5,67,7])\n",
    "vec2 = np.array([4,8,23,8,7])"
   ]
  },
  {
   "cell_type": "code",
   "execution_count": 3,
   "metadata": {},
   "outputs": [
    {
     "name": "stdout",
     "output_type": "stream",
     "text": [
      "[ 5 11 28 75 14]\n",
      "\n",
      "\n",
      "[ 5 11 28 75 14]\n"
     ]
    }
   ],
   "source": [
    "# addition of two vectors\n",
    "\n",
    "add = vec1 + vec2\n",
    "print(add)\n",
    "print('\\n')\n",
    "#or using numpy built_in_func \n",
    "add = np.add(vec1,vec2)\n",
    "print(add)"
   ]
  },
  {
   "cell_type": "code",
   "execution_count": 4,
   "metadata": {},
   "outputs": [
    {
     "name": "stdout",
     "output_type": "stream",
     "text": [
      "[ -3  -5 -18  59   0]\n",
      "\n",
      "\n",
      "[ -3  -5 -18  59   0]\n"
     ]
    }
   ],
   "source": [
    "# subtaction of two vectors\n",
    "\n",
    "sub = vec1-vec2\n",
    "print(sub)\n",
    "\n",
    "print('\\n')\n",
    "\n",
    "#or using np  func\n",
    "\n",
    "sub = np.subtract(vec1,vec2)\n",
    "print(sub)"
   ]
  },
  {
   "cell_type": "code",
   "execution_count": 5,
   "metadata": {},
   "outputs": [
    {
     "name": "stdout",
     "output_type": "stream",
     "text": [
      "[  4  24 115 536  49]\n",
      "\n",
      "\n",
      "[  4  24 115 536  49]\n"
     ]
    }
   ],
   "source": [
    "# multiplication of two vectors\n",
    "\n",
    "mul = vec1 * vec2\n",
    "print(mul)\n",
    "print('\\n')\n",
    "\n",
    "#or using numpy func\n",
    "\n",
    "mul = np.multiply(vec1,vec2)\n",
    "print(mul)"
   ]
  },
  {
   "cell_type": "code",
   "execution_count": 6,
   "metadata": {},
   "outputs": [
    {
     "name": "stdout",
     "output_type": "stream",
     "text": [
      "[0.25      0.375     0.2173913 8.375     1.       ]\n",
      "\n",
      "\n",
      "[0.25      0.375     0.2173913 8.375     1.       ]\n"
     ]
    }
   ],
   "source": [
    "#division of two vectors\n",
    "\n",
    "div = vec1/vec2\n",
    "print(div)\n",
    "print('\\n')\n",
    "\n",
    "# or using numpy func\n",
    "\n",
    "\n",
    "div  = np.divide(vec1,vec2)\n",
    "print(div)"
   ]
  },
  {
   "cell_type": "code",
   "execution_count": 7,
   "metadata": {},
   "outputs": [
    {
     "name": "stdout",
     "output_type": "stream",
     "text": [
      "728\n",
      "\n",
      "\n",
      "728\n"
     ]
    }
   ],
   "source": [
    "# dot-product of the two vectors\n",
    "\n",
    "dot = vec1.dot(vec2)\n",
    "print(dot)\n",
    "print('\\n')\n",
    "\n",
    "# using np function\n",
    "\n",
    "dot = np.dot(vec1,vec2)\n",
    "print(dot)"
   ]
  },
  {
   "cell_type": "code",
   "execution_count": 8,
   "metadata": {},
   "outputs": [
    {
     "name": "stdout",
     "output_type": "stream",
     "text": [
      "[ 0.5  1.5  2.5 33.5  3.5]\n"
     ]
    }
   ],
   "source": [
    "# scalar to vector multiplication\n",
    "\n",
    "scalar = 0.5\n",
    "\n",
    "s_mul = np.multiply(vec1,scalar)\n",
    "print(s_mul)"
   ]
  },
  {
   "cell_type": "markdown",
   "metadata": {},
   "source": [
    "## Vector Norms"
   ]
  },
  {
   "cell_type": "markdown",
   "metadata": {},
   "source": [
    "* Calculating the length or magnitude of vectors is often required either directly as a regularization method in machine learning, or as part of broader vector or matrix operations. \n",
    "* We will discover the different ways to calculate vector lengths or magnitudes, called the vector norm"
   ]
  },
  {
   "cell_type": "markdown",
   "metadata": {},
   "source": [
    "* The L 1 norm that is calculated as the sum of the absolute values of the vector.\n",
    "* The L 2 norm that is calculated as the square root of the sum of the squared vector values.\n",
    "* The max norm that is calculated as the maximum vector values."
   ]
  },
  {
   "cell_type": "markdown",
   "metadata": {},
   "source": [
    "Vector L 1 Norm\n",
    "* The length of a vector can be calculated using the L 1 norm, where the 1 is a superscript of the L. \n",
    "* The notation for the L 1 norm of a vector is ||v|| 1 , where 1 is a subscript. \n",
    "* As such, this length is sometimes called the taxicab norm or the Manhattan norm.\n",
    "\n",
    "L 1 (v) = ||v|| 1\n",
    "\n",
    "* The L 1 norm is calculated as the sum of the absolute vector values, where the absolute value of a scalar uses the notation |a 1 |.\n",
    "* In effect, the norm is a calculation of the Manhattan distance from the origin of the vector space.\n",
    "\n",
    "||v|| 1 = |a 1 | + |a 2 | + |a 3 |\n",
    "\n",
    "\n",
    "* In several machine learning applications, it is important to discriminate betweenelements that are exactly zero and elements that are small but nonzero.\n",
    "* In these cases, we turn to a function that grows at the same rate in all locations, but retains mathematical simplicity :   the L 1 norm.\n",
    "\n"
   ]
  },
  {
   "cell_type": "code",
   "execution_count": 9,
   "metadata": {},
   "outputs": [
    {
     "data": {
      "text/plain": [
       "83.0"
      ]
     },
     "execution_count": 9,
     "metadata": {},
     "output_type": "execute_result"
    }
   ],
   "source": [
    "# creating a L1 regularization using numpy\n",
    "\n",
    "l1 = np.linalg.norm(vec1,1)\n",
    "l1"
   ]
  },
  {
   "cell_type": "markdown",
   "metadata": {},
   "source": [
    "* The length of a vector can be calculated using the L 2 norm, where the 2 is a superscript of the L. \n",
    "* The notation for the L 2 norm of a vector is ||v|| 2 where 2 is a subscript.\n",
    "\n",
    "\n",
    "L 2 (v) = ||v|| 2\n",
    "\n",
    "\n",
    "* The L 2 norm calculates the distance of the vector coordinate from the origin of the vector space.\n",
    "* As such, it is also known as the Euclidean norm as it is calculated as the Euclidean distance from the origin.\n",
    "* The result is a positive distance value.\n",
    "* The L 2 norm is calculated as the square root of the sum of the squared vector values.\n",
    "\n",
    "\n",
    "||v|| 2 = a 21 + a 22 + a 23\n",
    "\n",
    "\n"
   ]
  },
  {
   "cell_type": "code",
   "execution_count": 10,
   "metadata": {},
   "outputs": [
    {
     "data": {
      "text/plain": [
       "67.62396025078685"
      ]
     },
     "execution_count": 10,
     "metadata": {},
     "output_type": "execute_result"
    }
   ],
   "source": [
    "## crating a L2 regularization using np\n",
    "\n",
    "l2 = np.linalg.norm(vec1)\n",
    "l2"
   ]
  },
  {
   "cell_type": "markdown",
   "metadata": {},
   "source": [
    "* The length of a vector can be calculated using the maximum norm, also called max norm.\n",
    "* Max norm of a vector is referred to as L inf where inf is a superscript and can be represented with the infinity symbol.\n",
    "* The notation for max norm is ||v|| inf , where inf is a subscript. L\n",
    "\n",
    "\n",
    "inf (v) = ||v|| inf\n",
    "\n",
    "* The max norm is calculated as returning the maximum value of the vector, hence the name.\n",
    "\n",
    "\n",
    "||v|| inf = max a 1 , a 2 , a 3"
   ]
  },
  {
   "cell_type": "code",
   "execution_count": 11,
   "metadata": {},
   "outputs": [
    {
     "data": {
      "text/plain": [
       "8.0"
      ]
     },
     "execution_count": 11,
     "metadata": {},
     "output_type": "execute_result"
    }
   ],
   "source": [
    "from math import inf\n",
    "\n",
    "max_norm = np.linalg.norm(vec,inf)\n",
    "\n",
    "max_norm"
   ]
  },
  {
   "cell_type": "markdown",
   "metadata": {},
   "source": [
    "# Matrices and Matrix Arithmetic"
   ]
  },
  {
   "cell_type": "code",
   "execution_count": 12,
   "metadata": {},
   "outputs": [
    {
     "name": "stdout",
     "output_type": "stream",
     "text": [
      "[[2 5]\n",
      " [6 8]]\n"
     ]
    }
   ],
   "source": [
    "# defining a matrix\n",
    "\n",
    "mat = np.array([[2,5],\n",
    "                [6,8]])\n",
    "\n",
    "\n",
    "print(mat)"
   ]
  },
  {
   "cell_type": "code",
   "execution_count": 13,
   "metadata": {},
   "outputs": [
    {
     "name": "stdout",
     "output_type": "stream",
     "text": [
      "[[ 3 15]\n",
      " [15 99]]\n",
      "\n",
      "\n",
      "[[ 3 15]\n",
      " [15 99]]\n"
     ]
    }
   ],
   "source": [
    "# addaing of two matrices\n",
    "\n",
    "mat1 = np.array([[1,9],[7,9]])\n",
    "mat2 = np.array([[2,6],[8,90]])\n",
    "\n",
    "\n",
    "add = mat1 + mat2\n",
    "\n",
    "print(add)\n",
    "print('\\n')\n",
    "\n",
    "#or with np func\n",
    "\n",
    "add = np.add(mat1,mat2)\n",
    "\n",
    "print(add)"
   ]
  },
  {
   "cell_type": "code",
   "execution_count": 14,
   "metadata": {},
   "outputs": [
    {
     "name": "stdout",
     "output_type": "stream",
     "text": [
      "[[ -1   3]\n",
      " [ -1 -81]]\n",
      "\n",
      "\n",
      "[[ -1   3]\n",
      " [ -1 -81]]\n"
     ]
    }
   ],
   "source": [
    "# subtarcting two matrices\n",
    "\n",
    "sub = mat1 -mat2\n",
    "print(sub)\n",
    "print('\\n')\n",
    "\n",
    "#or with np func\n",
    "sub = np.subtract(mat1,mat2)\n",
    "print(sub)"
   ]
  },
  {
   "cell_type": "code",
   "execution_count": 15,
   "metadata": {},
   "outputs": [
    {
     "name": "stdout",
     "output_type": "stream",
     "text": [
      "[[  2  54]\n",
      " [ 56 810]]\n",
      "\n",
      "\n",
      "[[  2  54]\n",
      " [ 56 810]]\n"
     ]
    }
   ],
   "source": [
    "# multipling two matrices \n",
    "\n",
    "mul = mat1 * mat2\n",
    "print(mul)\n",
    "\n",
    "print('\\n')\n",
    "# or with the mul func\n",
    "\n",
    "mul = np.multiply(mat1,mat2)\n",
    "print(mul)"
   ]
  },
  {
   "cell_type": "code",
   "execution_count": 16,
   "metadata": {},
   "outputs": [
    {
     "name": "stdout",
     "output_type": "stream",
     "text": [
      "[[0.5   1.5  ]\n",
      " [0.875 0.1  ]]\n",
      "\n",
      "\n",
      "[[0.5   1.5  ]\n",
      " [0.875 0.1  ]]\n"
     ]
    }
   ],
   "source": [
    "# dividing two matrices\n",
    "\n",
    "div = mat1/mat2\n",
    "print(div)\n",
    "print('\\n')\n",
    "\n",
    "#or with np func\n",
    "\n",
    "div = np.divide(mat1,mat2)\n",
    "print(div)"
   ]
  },
  {
   "cell_type": "markdown",
   "metadata": {},
   "source": [
    "## Matrix-Matrix Multiplication"
   ]
  },
  {
   "cell_type": "markdown",
   "metadata": {},
   "source": [
    "* Matrix multiplication, also called the matrix dot product is more complicated than the previous operations and involves a rule as not all matrices can be multiplied together.\n",
    "\n",
    "* C = A · B (9.15)\n",
    "* C = AB (9.16)\n",
    "\n",
    "### or\n",
    "\n",
    "* The rule for matrix multiplication is as follows:\n",
    "\n",
    "* The number of columns (n) in the first matrix (A) must equal the number of rows (m) in the second matrix (B).\n",
    "* For example, matrix A has the dimensions m rows and n columns and matrix B has the dimensions n and k.\n",
    "* The n columns in A and n rows in B are equal.\n",
    "* The result is a new matrix with m rows and k columns.\n",
    "\n",
    "#### C(m, k) = A(m, n) · B(n, k)\n",
    "\n",
    "\n",
    "* This rule applies for a chain of matrix multiplications where the number of columns in one matrix in the chain must match the number of rows in the following matrix in the chain.\n",
    "* One of the most important operations involving matrices is multiplication of two matrices.\n",
    "* The matrix product of matrices A and B is a third matrix C.\n",
    "* In order for this product to be defined, A must have the same number of columns as B has rows.\n",
    "* If A is of shape m × n and B is of shape n × p, then C is of shape m × p.\n",
    "\n"
   ]
  },
  {
   "cell_type": "code",
   "execution_count": 17,
   "metadata": {},
   "outputs": [
    {
     "name": "stdout",
     "output_type": "stream",
     "text": [
      "[[[[ 99  81  72 214 117]\n",
      "   [127 105  89 260 147]\n",
      "   [ 57  64  40  79  60]]]]\n",
      "\n",
      "\n",
      "[[[[ 99  81  72 214 117]\n",
      "   [127 105  89 260 147]\n",
      "   [ 57  64  40  79  60]]]]\n"
     ]
    }
   ],
   "source": [
    "## mutrix matrix multiplication \n",
    "\n",
    "matmul1 = np.array([[[[1,3,6,8],\n",
    "             [2,5,7,9],\n",
    "             [8,2,0,1]]]])\n",
    "matmul2 = np.array([[[[5,6,4,8,5],\n",
    "              [6,5,2,4,6],\n",
    "             [6,2,5,23,5],\n",
    "                     [5,6,4,7,8]]]])\n",
    "\n",
    "\n",
    "\n",
    "matmul = matmul1 @ matmul2\n",
    "print(matmul)\n",
    "\n",
    "print('\\n')\n",
    "\n",
    "#using numpy\n",
    "\n",
    "matmul = np.matmul(matmul1,matmul2)\n",
    "\n",
    "print(matmul)"
   ]
  },
  {
   "cell_type": "code",
   "execution_count": 18,
   "metadata": {},
   "outputs": [
    {
     "data": {
      "text/plain": [
       "array([[[57, 69, 16]]])"
      ]
     },
     "execution_count": 18,
     "metadata": {},
     "output_type": "execute_result"
    }
   ],
   "source": [
    "## matrix with vaector mul\n",
    "vec3 = np.array([1,2,3,4])\n",
    "\n",
    "vec_matmul =matmul1 @ vec3\n",
    "\n",
    "vec_matmul"
   ]
  },
  {
   "cell_type": "code",
   "execution_count": 19,
   "metadata": {},
   "outputs": [
    {
     "name": "stdout",
     "output_type": "stream",
     "text": [
      "[[[[170 204 136 272 170]\n",
      "   [204 170  68 136 204]\n",
      "   [204  68 170 782 170]\n",
      "   [170 204 136 238 272]]]]\n",
      "\n",
      "\n",
      "[[[[170 204 136 272 170]\n",
      "   [204 170  68 136 204]\n",
      "   [204  68 170 782 170]\n",
      "   [170 204 136 238 272]]]]\n"
     ]
    }
   ],
   "source": [
    "## scalar to matrix multiplication \n",
    "\n",
    "sc = 34\n",
    "\n",
    "sc_matmul = matmul2 * sc\n",
    "\n",
    "print(sc_matmul)\n",
    "\n",
    "print('\\n')\n",
    "#or in numpy built in func\n",
    "\n",
    "sc_mul = np.multiply (matmul2,sc)\n",
    "print(sc_matmul)"
   ]
  },
  {
   "cell_type": "markdown",
   "metadata": {},
   "source": [
    "# Types of Matrices"
   ]
  },
  {
   "cell_type": "code",
   "execution_count": 20,
   "metadata": {},
   "outputs": [
    {
     "name": "stdout",
     "output_type": "stream",
     "text": [
      "[[[[170   0   0   0   0]\n",
      "   [204 170   0   0   0]\n",
      "   [204  68 170   0   0]\n",
      "   [170 204 136 238   0]]]]\n",
      "\n",
      "\n",
      "[[[[170 204 136 272 170]\n",
      "   [  0 170  68 136 204]\n",
      "   [  0   0 170 782 170]\n",
      "   [  0   0   0 238 272]]]]\n"
     ]
    }
   ],
   "source": [
    "# Triangular matrix\n",
    "\n",
    "lower = np.tril(sc_mul)\n",
    "print(lower)\n",
    "\n",
    "print('\\n')\n",
    "upper = np.triu(sc_mul)\n",
    "print(upper)"
   ]
  },
  {
   "cell_type": "code",
   "execution_count": 21,
   "metadata": {},
   "outputs": [
    {
     "name": "stdout",
     "output_type": "stream",
     "text": [
      "[6 5 5]\n"
     ]
    }
   ],
   "source": [
    "# Diagonal matrix\n",
    "\n",
    "matmul2 = np.array([[6,4,8],\n",
    "              [6,5,2],\n",
    "             [6,2,5]])\n",
    "\n",
    "diag = np.diag(matmul2)\n",
    "print(diag)"
   ]
  },
  {
   "cell_type": "code",
   "execution_count": 22,
   "metadata": {},
   "outputs": [
    {
     "name": "stdout",
     "output_type": "stream",
     "text": [
      "[[1. 0. 0. 0. 0.]\n",
      " [0. 1. 0. 0. 0.]\n",
      " [0. 0. 1. 0. 0.]\n",
      " [0. 0. 0. 1. 0.]\n",
      " [0. 0. 0. 0. 1.]]\n"
     ]
    }
   ],
   "source": [
    "#Identity matrix\n",
    "\n",
    "identity = np.identity(5)\n",
    "print(identity)"
   ]
  },
  {
   "cell_type": "code",
   "execution_count": 23,
   "metadata": {},
   "outputs": [
    {
     "name": "stdout",
     "output_type": "stream",
     "text": [
      "[[ 1  0]\n",
      " [ 0 -1]]\n",
      "[[ 1  0]\n",
      " [ 0 -1]]\n",
      "[[ 1.  0.]\n",
      " [-0. -1.]]\n",
      "[[1 0]\n",
      " [0 1]]\n"
     ]
    }
   ],
   "source": [
    "# orthogonal matrix\n",
    "from numpy import array\n",
    "from numpy.linalg import inv\n",
    "# define orthogonal matrix\n",
    "Q = array([\n",
    "[1, 0],\n",
    "[0, -1]])\n",
    "print(Q)\n",
    "# inverse equivalence\n",
    "V = inv(Q)\n",
    "print(Q.T)\n",
    "print(V)\n",
    "# identity equivalence\n",
    "I = Q.dot(Q.T)\n",
    "print(I)"
   ]
  },
  {
   "cell_type": "markdown",
   "metadata": {},
   "source": [
    "# Operations of matrices"
   ]
  },
  {
   "cell_type": "markdown",
   "metadata": {},
   "source": [
    "##  1 Transpose\n",
    "\n",
    "* A defined matrix can be transposed, which creates a new matrix with the number of columns and rows flipped. \n",
    "* This is denoted by the superscript T next to the matrix A T .\n",
    "\n",
    "\n",
    "### C = A T\n",
    "\n",
    "* We can transpose a matrix in NumPy by calling the T attribute."
   ]
  },
  {
   "cell_type": "code",
   "execution_count": 24,
   "metadata": {},
   "outputs": [
    {
     "name": "stdout",
     "output_type": "stream",
     "text": [
      "[[1 2]\n",
      " [3 4]\n",
      " [5 6]]\n",
      "[[1 3 5]\n",
      " [2 4 6]]\n"
     ]
    }
   ],
   "source": [
    "# transpose matrix\n",
    "from numpy import array\n",
    "# define matrix\n",
    "A = array([\n",
    "[1, 2],\n",
    "[3, 4],\n",
    "[5, 6]])\n",
    "print(A)\n",
    "# calculate transpose\n",
    "C = A.T\n",
    "print(C)"
   ]
  },
  {
   "cell_type": "markdown",
   "metadata": {},
   "source": [
    "## Inverse"
   ]
  },
  {
   "cell_type": "code",
   "execution_count": 25,
   "metadata": {},
   "outputs": [
    {
     "name": "stdout",
     "output_type": "stream",
     "text": [
      "[[1. 2.]\n",
      " [3. 4.]]\n",
      "[[-2.   1. ]\n",
      " [ 1.5 -0.5]]\n",
      "[[1.00000000e+00 1.11022302e-16]\n",
      " [0.00000000e+00 1.00000000e+00]]\n"
     ]
    }
   ],
   "source": [
    "# invert matrix\n",
    "from numpy import array\n",
    "from numpy.linalg import inv\n",
    "# define matrix\n",
    "A = array([\n",
    "[1.0, 2.0],\n",
    "[3.0, 4.0]])\n",
    "print(A)\n",
    "# invert matrix\n",
    "B = inv(A)\n",
    "print(B)\n",
    "# multiply A and B\n",
    "I = A.dot(B)\n",
    "print(I)"
   ]
  },
  {
   "cell_type": "markdown",
   "metadata": {},
   "source": [
    "## Trace"
   ]
  },
  {
   "cell_type": "code",
   "execution_count": 26,
   "metadata": {},
   "outputs": [
    {
     "name": "stdout",
     "output_type": "stream",
     "text": [
      "[[1 2 3]\n",
      " [4 5 6]\n",
      " [7 8 9]]\n",
      "\n",
      "\n",
      "15\n"
     ]
    }
   ],
   "source": [
    "A = np.array([\n",
    "[1, 2, 3],\n",
    "[4, 5, 6],\n",
    "[7, 8, 9]])\n",
    "print(A)\n",
    "\n",
    "print('\\n')\n",
    "trace = np.trace(A)\n",
    "print(trace)"
   ]
  },
  {
   "cell_type": "markdown",
   "metadata": {},
   "source": [
    "## Determinant"
   ]
  },
  {
   "cell_type": "code",
   "execution_count": 27,
   "metadata": {},
   "outputs": [
    {
     "name": "stdout",
     "output_type": "stream",
     "text": [
      "-9.51619735392994e-16\n"
     ]
    }
   ],
   "source": [
    "b = np.linalg.det(A)\n",
    "print(b)"
   ]
  },
  {
   "cell_type": "markdown",
   "metadata": {},
   "source": [
    "## Rank"
   ]
  },
  {
   "cell_type": "code",
   "execution_count": 28,
   "metadata": {},
   "outputs": [
    {
     "name": "stdout",
     "output_type": "stream",
     "text": [
      "[1 2 3]\n",
      "1\n",
      "[0 0 0 0 0]\n",
      "0\n"
     ]
    }
   ],
   "source": [
    "# vector rank\n",
    "from numpy import array\n",
    "from numpy.linalg import matrix_rank\n",
    "# rank\n",
    "v1 = array([1,2,3])\n",
    "print(v1)\n",
    "vr1 = matrix_rank(v1)\n",
    "print(vr1)\n",
    "# zero rank\n",
    "v2 = array([0,0,0,0,0])\n",
    "print(v2)\n",
    "vr2 = matrix_rank(v2)\n",
    "print(vr2)"
   ]
  },
  {
   "cell_type": "code",
   "execution_count": 29,
   "metadata": {},
   "outputs": [
    {
     "name": "stdout",
     "output_type": "stream",
     "text": [
      "[[0 0]\n",
      " [0 0]]\n",
      "0\n",
      "[[1 2]\n",
      " [1 2]]\n",
      "1\n",
      "[[1 2]\n",
      " [3 4]]\n",
      "2\n"
     ]
    }
   ],
   "source": [
    "# matrix rank\n",
    "from numpy import array\n",
    "from numpy.linalg import matrix_rank\n",
    "# rank 0\n",
    "M0 = array([\n",
    "[0,0],\n",
    "[0,0]])\n",
    "print(M0)\n",
    "mr0 = matrix_rank(M0)\n",
    "print(mr0)\n",
    "# rank 1\n",
    "M1 = array([\n",
    "[1,2],\n",
    "[1,2]])\n",
    "print(M1)\n",
    "mr1 = matrix_rank(M1)\n",
    "print(mr1)\n",
    "# rank 2\n",
    "M2 = array([\n",
    "[1,2],\n",
    "[3,4]])\n",
    "print(M2)\n",
    "mr2 = matrix_rank(M2)\n",
    "print(mr2)"
   ]
  },
  {
   "cell_type": "code",
   "execution_count": 30,
   "metadata": {},
   "outputs": [
    {
     "name": "stdout",
     "output_type": "stream",
     "text": [
      "[[1 0 0 1 0 0]\n",
      " [0 0 2 0 0 1]\n",
      " [0 0 0 2 0 0]]\n",
      "0.7222222222222222\n"
     ]
    }
   ],
   "source": [
    "# sparsity calculation\n",
    "from numpy import array\n",
    "from numpy import count_nonzero\n",
    "# create dense matrix\n",
    "A = array([\n",
    "[1, 0, 0, 1, 0, 0],\n",
    "[0, 0, 2, 0, 0, 1],\n",
    "[0, 0, 0, 2, 0, 0]])\n",
    "print(A)\n",
    "# calculate sparsity\n",
    "sparsity = 1.0 - count_nonzero(A) / A.size\n",
    "print(sparsity)"
   ]
  },
  {
   "cell_type": "markdown",
   "metadata": {},
   "source": [
    "## Tensors"
   ]
  },
  {
   "cell_type": "code",
   "execution_count": 39,
   "metadata": {},
   "outputs": [
    {
     "name": "stdout",
     "output_type": "stream",
     "text": [
      "[[[ 1  2  3]\n",
      "  [ 1  3  4]\n",
      "  [ 5  6  7]]\n",
      "\n",
      " [[ 8  5  4]\n",
      "  [ 1  3  5]\n",
      "  [ 9  4  3]]\n",
      "\n",
      " [[ 1  6  3]\n",
      "  [55 77 33]\n",
      "  [ 4  9  4]]]\n",
      "(3, 3, 3)\n",
      "[3 3 3]\n"
     ]
    }
   ],
   "source": [
    "tensors = np.array([[[1,2,3],[1,3,4],[5,6,7]],\n",
    "                    [[8,5,4],[1,3,5],[9,4,3]],\n",
    "                    [[1,6,3],[55,77,33],[4,9,4]]])\n",
    "print(tensors)\n",
    "print(tensors.shape)\n",
    "print(np.linalg.matrix_rank(tensors))"
   ]
  },
  {
   "cell_type": "code",
   "execution_count": 42,
   "metadata": {},
   "outputs": [
    {
     "name": "stdout",
     "output_type": "stream",
     "text": [
      "[[[ 2  4  6]\n",
      "  [ 8 10 12]\n",
      "  [14 16 18]]\n",
      "\n",
      " [[22 24 26]\n",
      "  [28 30 32]\n",
      "  [34 36 38]]\n",
      "\n",
      " [[42 44 46]\n",
      "  [48 50 52]\n",
      "  [54 56 58]]]\n",
      "\n",
      "\n",
      "[[[ 2  4  6]\n",
      "  [ 8 10 12]\n",
      "  [14 16 18]]\n",
      "\n",
      " [[22 24 26]\n",
      "  [28 30 32]\n",
      "  [34 36 38]]\n",
      "\n",
      " [[42 44 46]\n",
      "  [48 50 52]\n",
      "  [54 56 58]]]\n"
     ]
    }
   ],
   "source": [
    "# tensor addition\n",
    "import numpy as np\n",
    "# define first tensor\n",
    "A =np.array([\n",
    "[[1,2,3], [4,5,6], [7,8,9]],\n",
    "[[11,12,13], [14,15,16], [17,18,19]],\n",
    "[[21,22,23], [24,25,26], [27,28,29]]])\n",
    "# define second tensor\n",
    "B = np.array([\n",
    "[[1,2,3], [4,5,6], [7,8,9]],\n",
    "[[11,12,13], [14,15,16], [17,18,19]],\n",
    "[[21,22,23], [24,25,26], [27,28,29]]])\n",
    "# add tensors\n",
    "C = A + B\n",
    "print(C)\n",
    "print('\\n')\n",
    "\n",
    "# using np add func()\n",
    "c = np.add(A,B)\n",
    "print(c)"
   ]
  },
  {
   "cell_type": "code",
   "execution_count": 52,
   "metadata": {},
   "outputs": [
    {
     "name": "stdout",
     "output_type": "stream",
     "text": [
      "[[[0 0 0]\n",
      "  [0 0 0]\n",
      "  [0 0 0]]\n",
      "\n",
      " [[0 0 0]\n",
      "  [0 0 0]\n",
      "  [0 0 0]]\n",
      "\n",
      " [[0 0 0]\n",
      "  [0 0 0]\n",
      "  [0 0 0]]]\n",
      "\n",
      "\n",
      "[[[0 0 0]\n",
      "  [0 0 0]\n",
      "  [0 0 0]]\n",
      "\n",
      " [[0 0 0]\n",
      "  [0 0 0]\n",
      "  [0 0 0]]\n",
      "\n",
      " [[0 0 0]\n",
      "  [0 0 0]\n",
      "  [0 0 0]]]\n"
     ]
    }
   ],
   "source": [
    "# tensor subtraction\n",
    "\n",
    "c = A - B\n",
    "print(c)\n",
    "print('\\n')\n",
    "\n",
    "# by builtin func \n",
    "\n",
    "c = np.subtract(A,B)\n",
    "print(c)"
   ]
  },
  {
   "cell_type": "code",
   "execution_count": 54,
   "metadata": {},
   "outputs": [
    {
     "name": "stdout",
     "output_type": "stream",
     "text": [
      "[[[  1   4   9]\n",
      "  [ 16  25  36]\n",
      "  [ 49  64  81]]\n",
      "\n",
      " [[121 144 169]\n",
      "  [196 225 256]\n",
      "  [289 324 361]]\n",
      "\n",
      " [[441 484 529]\n",
      "  [576 625 676]\n",
      "  [729 784 841]]]\n",
      "\n",
      "\n",
      "[[[  1   4   9]\n",
      "  [ 16  25  36]\n",
      "  [ 49  64  81]]\n",
      "\n",
      " [[121 144 169]\n",
      "  [196 225 256]\n",
      "  [289 324 361]]\n",
      "\n",
      " [[441 484 529]\n",
      "  [576 625 676]\n",
      "  [729 784 841]]]\n"
     ]
    }
   ],
   "source": [
    "# tensor Hadamard Product\n",
    "\n",
    "c = A * B\n",
    "print(c)\n",
    "\n",
    "print('\\n')\n",
    "\n",
    "c = np.multiply(A,B)\n",
    "print(c)"
   ]
  },
  {
   "cell_type": "code",
   "execution_count": 51,
   "metadata": {},
   "outputs": [
    {
     "name": "stdout",
     "output_type": "stream",
     "text": [
      "[[[1. 1. 1.]\n",
      "  [1. 1. 1.]\n",
      "  [1. 1. 1.]]\n",
      "\n",
      " [[1. 1. 1.]\n",
      "  [1. 1. 1.]\n",
      "  [1. 1. 1.]]\n",
      "\n",
      " [[1. 1. 1.]\n",
      "  [1. 1. 1.]\n",
      "  [1. 1. 1.]]]\n",
      "\n",
      "\n",
      "[[[1. 1. 1.]\n",
      "  [1. 1. 1.]\n",
      "  [1. 1. 1.]]\n",
      "\n",
      " [[1. 1. 1.]\n",
      "  [1. 1. 1.]\n",
      "  [1. 1. 1.]]\n",
      "\n",
      " [[1. 1. 1.]\n",
      "  [1. 1. 1.]\n",
      "  [1. 1. 1.]]]\n"
     ]
    }
   ],
   "source": [
    "# tensor division\n",
    "\n",
    "\n",
    "c = A / B\n",
    "print(c)\n",
    "\n",
    "# by built in func \n",
    "print('\\n')\n",
    "c = np.divide(A,B)\n",
    "print(c)"
   ]
  },
  {
   "cell_type": "code",
   "execution_count": 60,
   "metadata": {},
   "outputs": [
    {
     "name": "stdout",
     "output_type": "stream",
     "text": [
      "[[[[2 2 2]\n",
      "   [2 2 2]\n",
      "   [2 2 2]]\n",
      "\n",
      "  [[2 2 2]\n",
      "   [2 2 2]\n",
      "   [2 2 2]]\n",
      "\n",
      "  [[2 2 2]\n",
      "   [2 2 2]\n",
      "   [2 2 2]]]\n",
      "\n",
      "\n",
      " [[[2 2 2]\n",
      "   [2 2 2]\n",
      "   [2 2 2]]\n",
      "\n",
      "  [[2 2 2]\n",
      "   [2 2 2]\n",
      "   [2 2 2]]\n",
      "\n",
      "  [[2 2 2]\n",
      "   [2 2 2]\n",
      "   [2 2 2]]]\n",
      "\n",
      "\n",
      " [[[2 2 2]\n",
      "   [2 2 2]\n",
      "   [2 2 2]]\n",
      "\n",
      "  [[2 2 2]\n",
      "   [2 2 2]\n",
      "   [2 2 2]]\n",
      "\n",
      "  [[2 2 2]\n",
      "   [2 2 2]\n",
      "   [2 2 2]]]]\n",
      "\n",
      "\n",
      "(3, 3, 3, 3, 3, 3)\n"
     ]
    }
   ],
   "source": [
    "#Tensor Product\n",
    "\n",
    "c = np.tensordot(A,B,axes=0)\n",
    "\n",
    "print(np.linalg.matrix_rank(c))\n",
    "\n",
    "print('\\n')\n",
    "\n",
    "print(c.shape)"
   ]
  },
  {
   "cell_type": "code",
   "execution_count": null,
   "metadata": {},
   "outputs": [],
   "source": []
  }
 ],
 "metadata": {
  "kernelspec": {
   "display_name": "Python 3",
   "language": "python",
   "name": "python3"
  },
  "language_info": {
   "codemirror_mode": {
    "name": "ipython",
    "version": 3
   },
   "file_extension": ".py",
   "mimetype": "text/x-python",
   "name": "python",
   "nbconvert_exporter": "python",
   "pygments_lexer": "ipython3",
   "version": "3.6.5"
  }
 },
 "nbformat": 4,
 "nbformat_minor": 2
}
