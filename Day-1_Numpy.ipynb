{
 "cells": [
  {
   "cell_type": "markdown",
   "metadata": {},
   "source": [
    "## Numpy N-dimensional Array\n",
    "\n",
    "NumPy is a Python library that can be used for scientific and numerical applications and is the\n",
    "tool to use for linear algebra operations.\n",
    "* The main data structure in NumPy is the ndarray,which is a shorthand name for N-dimensional array.\n",
    "* When working with NumPy, data in an ndarray is simply referred to as an array.\n",
    "* It is a fixed-sized array in memory that contains data of the same type, such as integers or floating point values.\n",
    "* The data type supported by an array can be accessed via the dtype attribute on the array.\n",
    "* The dimensions of an array can be accessed via the shape attribute that returns a tuple describing the length of each dimension. \n",
    "* There are a host of other attributes. \n",
    "* A simple way to create an array from data or simple Python data structures like a list is to use the array()   function. \n",
    "* The example below creates a Python list of 3 floating point values, then creates an ndarray from the list and access the arrays’ shape and data type."
   ]
  },
  {
   "cell_type": "code",
   "execution_count": 22,
   "metadata": {},
   "outputs": [
    {
     "name": "stdout",
     "output_type": "stream",
     "text": [
      "[ 1.   2.3 25.   0.1]\n",
      "shape =  (4,)\n",
      "float64\n"
     ]
    }
   ],
   "source": [
    "# importing Numpy\n",
    "\n",
    "import numpy as np\n",
    "\n",
    "# creating np array\n",
    "a = np.array([1,2.3,25,0.1])\n",
    "\n",
    "print(a)\n",
    "\n",
    "#printing the shape of array\n",
    "\n",
    "print('shape = ',a.shape)\n",
    "\n",
    "#printing the Dtype of numpy\n",
    "\n",
    "print(a.dtype)"
   ]
  },
  {
   "cell_type": "code",
   "execution_count": 23,
   "metadata": {},
   "outputs": [
    {
     "name": "stdout",
     "output_type": "stream",
     "text": [
      "[[1. 1. 1. 1.]\n",
      " [1. 1. 1. 1.]\n",
      " [1. 1. 1. 1.]\n",
      " [1. 1. 1. 1.]]\n"
     ]
    }
   ],
   "source": [
    "# creating an empty array of shape 4*4\n",
    "\n",
    "empty = np.empty([4,4])\n",
    "\n",
    "print(empty)"
   ]
  },
  {
   "cell_type": "code",
   "execution_count": 24,
   "metadata": {},
   "outputs": [
    {
     "name": "stdout",
     "output_type": "stream",
     "text": [
      "[[0. 0. 0.]\n",
      " [0. 0. 0.]\n",
      " [0. 0. 0.]]\n"
     ]
    }
   ],
   "source": [
    "# creating a matrix of Zeros \n",
    "\n",
    "zeros = np.zeros([3,3])\n",
    "\n",
    "print(zeros)"
   ]
  },
  {
   "cell_type": "code",
   "execution_count": 25,
   "metadata": {},
   "outputs": [
    {
     "name": "stdout",
     "output_type": "stream",
     "text": [
      "[[1. 1. 1. 1.]\n",
      " [1. 1. 1. 1.]\n",
      " [1. 1. 1. 1.]\n",
      " [1. 1. 1. 1.]]\n"
     ]
    }
   ],
   "source": [
    "# creating a matrix with ones\n",
    "\n",
    "ones = np.ones([4,4])\n",
    "print(ones)"
   ]
  },
  {
   "cell_type": "markdown",
   "metadata": {},
   "source": [
    "## Combining Arrays\n",
    "\n",
    "* NumPy provides many functions to create new arrays from existing arrays."
   ]
  },
  {
   "cell_type": "raw",
   "metadata": {},
   "source": [
    "Vertical Stack\n",
    "\n",
    "Given two or more existing arrays, you can stack them vertically using the vstack() function.\n",
    "For example, given two one-dimensional arrays, you can create a new two-dimensional array\n",
    "with two rows by vertically stacking them.\n",
    "This is demonstrated in the example below."
   ]
  },
  {
   "cell_type": "code",
   "execution_count": 26,
   "metadata": {},
   "outputs": [
    {
     "name": "stdout",
     "output_type": "stream",
     "text": [
      "[9 7 0 0 5]\n",
      "(5,)\n",
      "\n",
      "\n",
      "[0 6 0 2 2]\n",
      "(5,)\n",
      "\n",
      "\n",
      "[[9 7 0 0 5]\n",
      " [0 6 0 2 2]]\n"
     ]
    }
   ],
   "source": [
    "# Vertical Stack\n",
    "\n",
    "v1 = np.array([9,7,0,0,5])\n",
    "\n",
    "print(v1)\n",
    "print(v1.shape)\n",
    "\n",
    "print('\\n')\n",
    "\n",
    "v2 = np.array([0,6,0,2,2])\n",
    "print(v2)\n",
    "print(v2.shape)\n",
    "\n",
    "print('\\n')\n",
    "\n",
    "vStack = np.vstack((v1,v2))\n",
    "print(vStack)"
   ]
  },
  {
   "cell_type": "raw",
   "metadata": {},
   "source": [
    "## Horizontal Stack\n",
    "\n",
    "Given two or more existing arrays, you can stack them horizontally using the hstack() function.\n",
    "For example, given two one-dimensional arrays, you can create a new one-dimensional array or\n",
    "one row with the columns of the first and second arrays concatenated"
   ]
  },
  {
   "cell_type": "code",
   "execution_count": 27,
   "metadata": {},
   "outputs": [
    {
     "name": "stdout",
     "output_type": "stream",
     "text": [
      "[[1 5]\n",
      " [4 5]]\n",
      "(2, 2)\n",
      "\n",
      "\n",
      "[[2 8]\n",
      " [8 9]]\n",
      "(2, 2)\n",
      "\n",
      "\n",
      "[[1 5 2 8]\n",
      " [4 5 8 9]]\n",
      "(2, 2)\n"
     ]
    }
   ],
   "source": [
    "# horizontal Stack\n",
    "\n",
    "h1 = np.array([[1,5],[4,5]])\n",
    "print(h1)\n",
    "print(h1.shape)\n",
    "print('\\n')\n",
    "\n",
    "\n",
    "h2 = np.array([[2,8],[8,9]])\n",
    "print(h2)\n",
    "print(h2.shape)\n",
    "print('\\n')\n",
    "\n",
    "\n",
    "hStack = np.hstack((h1,h2))\n",
    "print(hStack)\n",
    "print(h2.shape)"
   ]
  },
  {
   "cell_type": "code",
   "execution_count": null,
   "metadata": {},
   "outputs": [],
   "source": []
  },
  {
   "cell_type": "code",
   "execution_count": 28,
   "metadata": {},
   "outputs": [
    {
     "name": "stdout",
     "output_type": "stream",
     "text": [
      "<class 'numpy.ndarray'>\n"
     ]
    }
   ],
   "source": [
    "# convering list to array\n",
    "\n",
    "list = [1,12,4,5,7]\n",
    "\n",
    "ary = np.array(list)\n",
    "\n",
    "print(type(ary))"
   ]
  },
  {
   "cell_type": "code",
   "execution_count": 29,
   "metadata": {},
   "outputs": [
    {
     "name": "stdout",
     "output_type": "stream",
     "text": [
      "[[11 22]\n",
      " [33 44]\n",
      " [55 66]]\n",
      "(3, 2)\n",
      "<class 'numpy.ndarray'>\n"
     ]
    }
   ],
   "source": [
    "## Two-Dimensional List of Lists to Array\n",
    "\n",
    "data = [[11, 22],\n",
    "[33, 44],\n",
    "[55, 66]]\n",
    "\n",
    "arry = np.array(data)\n",
    "\n",
    "print(arry)\n",
    "print(arry.shape)\n",
    "print(type(arry))"
   ]
  },
  {
   "cell_type": "markdown",
   "metadata": {},
   "source": [
    "## Array Indexing "
   ]
  },
  {
   "cell_type": "code",
   "execution_count": 30,
   "metadata": {},
   "outputs": [
    {
     "name": "stdout",
     "output_type": "stream",
     "text": [
      "56\n",
      "5\n",
      "2\n"
     ]
    }
   ],
   "source": [
    "# One_Dimensional Indexing\n",
    "\n",
    "one_d = np.array([2,3,56,1,9,5])\n",
    "\n",
    "print(one_d[2])\n",
    "print(one_d[-1])\n",
    "print(one_d[-6])"
   ]
  },
  {
   "cell_type": "code",
   "execution_count": 31,
   "metadata": {},
   "outputs": [
    {
     "name": "stdout",
     "output_type": "stream",
     "text": [
      "1\n",
      "459\n",
      "65\n",
      "[1 5]\n"
     ]
    }
   ],
   "source": [
    "# Two-Dimensional Indexing\n",
    "\n",
    "two_d = np.array([[1,5],\n",
    "                  [459,52],\n",
    "                 [443,65]])\n",
    "print(two_d[0,0])\n",
    "\n",
    "print(two_d[1,0])\n",
    "\n",
    "print(two_d[2,1])\n",
    "\n",
    "# for printing all the elements in a row\n",
    "\n",
    "print(two_d[0,])"
   ]
  },
  {
   "cell_type": "markdown",
   "metadata": {},
   "source": [
    "## Array Slicing"
   ]
  },
  {
   "cell_type": "code",
   "execution_count": 32,
   "metadata": {},
   "outputs": [
    {
     "name": "stdout",
     "output_type": "stream",
     "text": [
      "[6 7 4 9 3]\n",
      "[6]\n",
      "[7 4 9]\n",
      "[9 3]\n",
      "[9 3]\n",
      "[4 9]\n"
     ]
    }
   ],
   "source": [
    "# One-Dimensional slicing \n",
    "\n",
    "one_Sl = np.array([6,7,4,9,3])\n",
    "\n",
    "#to print all the  elements\n",
    "\n",
    "print(one_Sl[:])\n",
    "\n",
    "#The first item of the array can be sliced by specifying a slice that starts at index 0 and ends at index 1 \n",
    "\n",
    "print(one_Sl[0:1])\n",
    "\n",
    "print(one_Sl[1:4])\n",
    "\n",
    "print(one_Sl[3:5])\n",
    "\n",
    "# negative Slicing Can Also be Done\n",
    "\n",
    "print(one_Sl[-2:])\n",
    "\n",
    "print(one_Sl[-3:-1])"
   ]
  },
  {
   "cell_type": "markdown",
   "metadata": {},
   "source": [
    "## Two-Dimensional Slicing"
   ]
  },
  {
   "cell_type": "raw",
   "metadata": {},
   "source": [
    "Split Input and Output Features\n",
    "It is common to split your loaded data into input variables (X) and the output variable (y). We\n",
    "can do this by slicing all rows and all columns up to, but before the last column, then separately\n",
    "indexing the last column. For the input features, we can select all rows and all columns except\n",
    "the last one by specifying : for in the rows index, and :-1 in the columns index."
   ]
  },
  {
   "cell_type": "code",
   "execution_count": 33,
   "metadata": {},
   "outputs": [
    {
     "name": "stdout",
     "output_type": "stream",
     "text": [
      "[[1 2 3]\n",
      " [3 6 7]\n",
      " [9 5 2]]\n",
      "\n",
      "\n",
      "[4 3 8]\n"
     ]
    }
   ],
   "source": [
    "Two_sl = np.array([[1,2,3,4],\n",
    "                  [3,6,7,3],\n",
    "                  [9,5,2,8]])\n",
    "x = Two_sl[:,:-1]\n",
    "y = Two_sl[:,-1]\n",
    "\n",
    "print(x)\n",
    "print('\\n')\n",
    "print(y)"
   ]
  },
  {
   "cell_type": "code",
   "execution_count": 34,
   "metadata": {},
   "outputs": [
    {
     "name": "stdout",
     "output_type": "stream",
     "text": [
      "[[1 2 3]\n",
      " [3 6 7]]\n",
      "\n",
      "\n",
      "[[9 5 2]]\n"
     ]
    }
   ],
   "source": [
    "# Splitting the Data into Training Data and Test data\n",
    "\n",
    "split = 2\n",
    "\n",
    "train_x = x[:split,:]\n",
    "test_x = x[split:,:]\n",
    "\n",
    "print(train_x)\n",
    "print('\\n')\n",
    "print(test_x)"
   ]
  },
  {
   "cell_type": "markdown",
   "metadata": {},
   "source": [
    "## Array Reshaping"
   ]
  },
  {
   "cell_type": "code",
   "execution_count": 38,
   "metadata": {},
   "outputs": [
    {
     "name": "stdout",
     "output_type": "stream",
     "text": [
      "Rows: 2\n",
      "Cols : 4\n"
     ]
    }
   ],
   "source": [
    "# array \n",
    "\n",
    "Shape =np.array([[1,2,3,4],\n",
    "        [5,6,8,9]])\n",
    "\n",
    "print('Rows: %d' % Shape.shape[0])\n",
    "print('Cols : %d' % Shape.shape[1])"
   ]
  },
  {
   "cell_type": "code",
   "execution_count": 45,
   "metadata": {},
   "outputs": [
    {
     "name": "stdout",
     "output_type": "stream",
     "text": [
      "[2 3 5 4 1]\n",
      "(5,)\n",
      "\n",
      "\n",
      "[[2]\n",
      " [3]\n",
      " [5]\n",
      " [4]\n",
      " [1]]\n",
      "(5, 1)\n"
     ]
    }
   ],
   "source": [
    "# Reshape 1D to 2D Array\n",
    "\n",
    "one_re = np.array([2,3,5,4,1])\n",
    "\n",
    "print(one_re)\n",
    "print(one_re.shape)\n",
    "\n",
    "print('\\n')\n",
    "one_re = one_re.reshape(one_re.shape[0],1)\n",
    "\n",
    "print(one_re)\n",
    "print(one_re.shape)"
   ]
  },
  {
   "cell_type": "code",
   "execution_count": 53,
   "metadata": {},
   "outputs": [
    {
     "name": "stdout",
     "output_type": "stream",
     "text": [
      "[[11 22]\n",
      " [33 44]\n",
      " [55 66]]\n",
      "(3, 2)\n",
      "\n",
      "\n",
      "[[[11]\n",
      "  [22]]\n",
      "\n",
      " [[33]\n",
      "  [44]]\n",
      "\n",
      " [[55]\n",
      "  [66]]]\n",
      "(3, 2, 1)\n"
     ]
    }
   ],
   "source": [
    "# Reshape 2D to 3D Array\n",
    "\n",
    "data = np.array([[11, 22],\n",
    "[33, 44],\n",
    "[55, 66]])\n",
    "\n",
    "print(data)\n",
    "print(data.shape)\n",
    "print('\\n')\n",
    "\n",
    "data_3d = data.reshape(data.shape[0],data.shape[1],1)\n",
    "print(data_3d)\n",
    "print(data_3d.shape)"
   ]
  },
  {
   "cell_type": "markdown",
   "metadata": {},
   "source": [
    "## NumPy Array Broadcasting\n",
    "\n",
    "* Arrays with different sizes cannot be added, subtracted, or generally be used in arithmetic.\n",
    "* A way to overcome this is to duplicate the smaller array so that it has the dimensionality and size as the larger array. \n",
    "* This is called array broadcasting and is available in NumPy when performing array arithmetic, which can greatly reduce and simplify your code.\n"
   ]
  },
  {
   "cell_type": "code",
   "execution_count": 57,
   "metadata": {},
   "outputs": [
    {
     "name": "stdout",
     "output_type": "stream",
     "text": [
      "[6 7 8 9]\n"
     ]
    }
   ],
   "source": [
    "## broadcast scalar to one-dimensional array\n",
    "\n",
    "m = np.array([1,2,3,4])\n",
    "n = np.array([5])\n",
    "o = np.add(m,n)\n",
    "print(o)"
   ]
  },
  {
   "cell_type": "code",
   "execution_count": 59,
   "metadata": {},
   "outputs": [
    {
     "name": "stdout",
     "output_type": "stream",
     "text": [
      "[[ 4  5  7]\n",
      " [ 6  9 10]]\n"
     ]
    }
   ],
   "source": [
    "## broadcast scalar to Two-dimensional array\n",
    "\n",
    "m = np.array([[1,2,4],[3,6,7]])\n",
    "n = np.array([3])\n",
    "o = np.add(m,n)\n",
    "print(o)"
   ]
  },
  {
   "cell_type": "code",
   "execution_count": 61,
   "metadata": {},
   "outputs": [
    {
     "name": "stdout",
     "output_type": "stream",
     "text": [
      "[[11  4  8  8]\n",
      " [14  7 13 10]]\n"
     ]
    }
   ],
   "source": [
    "\n",
    "## broadcast oneD to twoD array\n",
    "\n",
    "m = np.array([[1,2,3,4],[4,5,8,6]])\n",
    "n = np.array([10,2,5,4])\n",
    "o = np.add(m,n)\n",
    "print(o)"
   ]
  },
  {
   "cell_type": "code",
   "execution_count": null,
   "metadata": {},
   "outputs": [],
   "source": []
  }
 ],
 "metadata": {
  "kernelspec": {
   "display_name": "Python 3",
   "language": "python",
   "name": "python3"
  },
  "language_info": {
   "codemirror_mode": {
    "name": "ipython",
    "version": 3
   },
   "file_extension": ".py",
   "mimetype": "text/x-python",
   "name": "python",
   "nbconvert_exporter": "python",
   "pygments_lexer": "ipython3",
   "version": "3.6.5"
  }
 },
 "nbformat": 4,
 "nbformat_minor": 2
}
